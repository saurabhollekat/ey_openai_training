{
  "nbformat": 4,
  "nbformat_minor": 0,
  "metadata": {
    "colab": {
      "provenance": [],
      "authorship_tag": "ABX9TyN+GYjEWVfsX2eFs/DQQ6JF",
      "include_colab_link": true
    },
    "kernelspec": {
      "name": "python3",
      "display_name": "Python 3"
    },
    "language_info": {
      "name": "python"
    }
  },
  "cells": [
    {
      "cell_type": "markdown",
      "metadata": {
        "id": "view-in-github",
        "colab_type": "text"
      },
      "source": [
        "<a href=\"https://colab.research.google.com/github/saurabhollekat/ey_openai_training/blob/main/Medical_Assistant_Chat_%26_Image.ipynb\" target=\"_parent\"><img src=\"https://colab.research.google.com/assets/colab-badge.svg\" alt=\"Open In Colab\"/></a>"
      ]
    },
    {
      "cell_type": "code",
      "execution_count": null,
      "metadata": {
        "id": "g4Om-exJMmpJ"
      },
      "outputs": [],
      "source": [
        "!pip install openai==1.13.3"
      ]
    },
    {
      "cell_type": "code",
      "source": [
        "from openai import AzureOpenAI\n",
        "import requests"
      ],
      "metadata": {
        "id": "8GtW7MunPMK1"
      },
      "execution_count": 2,
      "outputs": []
    },
    {
      "cell_type": "code",
      "source": [
        "chat_azure_oai_endpoint = \"\"\n",
        "chat_azure_oai_key = \"\"\n",
        "chat_azure_oai_deployment = \"\"\n",
        "image_azure_oai_deployment = \"\"\n",
        "\n",
        "# Only modify, if OpenAI resource is different for Dall-e\n",
        "image_azure_oai_endpoint = chat_azure_oai_endpoint\n",
        "image_azure_oai_key = chat_azure_oai_key\n",
        "\n",
        "api_version = \"2024-02-15-preview\""
      ],
      "metadata": {
        "id": "w4gZ2PyOMqGs"
      },
      "execution_count": 23,
      "outputs": []
    },
    {
      "cell_type": "code",
      "source": [
        "prompt = input(\"\\nType your query: \")"
      ],
      "metadata": {
        "id": "pNA5a_yhU3ps"
      },
      "execution_count": null,
      "outputs": []
    },
    {
      "cell_type": "code",
      "source": [
        "chat_client = AzureOpenAI(\n",
        "        azure_endpoint = chat_azure_oai_endpoint,\n",
        "        api_key = chat_azure_oai_key,\n",
        "        api_version = api_version\n",
        "        )\n",
        "\n",
        "messages_array = [ {\"role\": \"system\", \"content\": \"You are a helpful medical assistant.\"},\n",
        "        {\"role\": \"user\", \"content\": \"I need some medical advise.\"},\n",
        "        {\"role\": \"assistant\", \"content\": \"Sure, please help me understand what are you suffering from.\"},\n",
        "        {\"role\": \"user\", \"content\": prompt}\n",
        "        ]\n",
        "\n",
        "chat_response = chat_client.chat.completions.create(\n",
        "    model = chat_azure_oai_deployment,\n",
        "    temperature = 0.7,\n",
        "    max_tokens = 1200,\n",
        "    messages = messages_array\n",
        ")\n",
        "generated_text = chat_response.choices[0].message.content\n",
        "\n",
        "messages_array.append({\"role\": \"system\", \"content\": generated_text})\n",
        "\n",
        "# Print generated text\n",
        "print(\"Summary: \" + generated_text + \"\\n\")"
      ],
      "metadata": {
        "id": "i6mNyxJQXB4c"
      },
      "execution_count": null,
      "outputs": []
    },
    {
      "cell_type": "code",
      "source": [
        "# Call the DALL-E model\n",
        "url = \"{}openai/deployments/{}/images/generations?api-version={}\".format(image_azure_oai_endpoint, image_azure_oai_deployment, api_version)\n",
        "headers= { \"api-key\": image_azure_oai_key, \"Content-Type\": \"application/json\" }\n",
        "body = {\n",
        "            \"prompt\": generated_text,\n",
        "            \"n\": 1,\n",
        "            \"size\": \"1024x1024\"\n",
        "        }\n",
        "\n",
        "image_response = requests.post(url, headers=headers, json=body)\n",
        "image_revised_prompt = image_response.json()['data'][0]['revised_prompt']\n",
        "image_url = image_response.json()['data'][0]['url']\n",
        "\n",
        " # Display the URL for the generated image\n",
        "print(image_revised_prompt)\n",
        "print(image_url)\n",
        "\n",
        "save_path = 'image_name.jpg'\n",
        "\n",
        "# Download the image and save it to the specified path\n",
        "blob_response = requests.get(image_url)\n",
        "if blob_response.status_code == 200:\n",
        "    with open(save_path, 'wb') as f:\n",
        "        f.write(blob_response.content)\n",
        "    print(f\"Image saved to {save_path}\")\n",
        "else:\n",
        "    print(\"Failed to download the image\")"
      ],
      "metadata": {
        "id": "5qpOCqmVVHK_"
      },
      "execution_count": null,
      "outputs": []
    }
  ]
}